{
 "cells": [
  {
   "cell_type": "code",
   "execution_count": 1,
   "id": "c4cbb1a7-57f5-42a3-8686-57307d847110",
   "metadata": {},
   "outputs": [],
   "source": [
    "import os, joblib, torch\n",
    "from smart import CustomDataset, CustomResNet\n",
    "from torch.utils.data import DataLoader\n",
    "from PIL import Image\n",
    "from torchvision import transforms\n",
    "from tqdm import tqdm"
   ]
  },
  {
   "cell_type": "code",
   "execution_count": 2,
   "id": "aed9a8c5-bb9e-4883-aaed-201bb9b08644",
   "metadata": {},
   "outputs": [],
   "source": [
    "mode = 2\n",
    "num_class = 3\n",
    "batch_size = 48\n",
    "\n",
    "model = joblib.load('model.joblib')"
   ]
  },
  {
   "cell_type": "code",
   "execution_count": 3,
   "id": "f34fe485-278e-420a-b22f-ba55e497c748",
   "metadata": {},
   "outputs": [
    {
     "name": "stdout",
     "output_type": "stream",
     "text": [
      "num_class: 3\n",
      "list of classes: ['paper_cups', 'plastic_trash_bags', 'plastic_water_bottles']\n",
      "length: 144\n"
     ]
    }
   ],
   "source": [
    "folder_path = 'images/images'\n",
    "test_data = CustomDataset(folder_path, mode, num_class)\n",
    "test_dl = DataLoader(test_data, batch_size, shuffle=True)"
   ]
  },
  {
   "cell_type": "code",
   "execution_count": 4,
   "id": "0b1f0b4c-432d-4203-8de1-fba48674b155",
   "metadata": {},
   "outputs": [
    {
     "name": "stderr",
     "output_type": "stream",
     "text": [
      "100%|████████████████████████████████████████████████████████████████████████████████████| 3/3 [00:02<00:00,  1.22it/s]"
     ]
    },
    {
     "name": "stdout",
     "output_type": "stream",
     "text": [
      "accuracy: 73.61111111111111%\n"
     ]
    },
    {
     "name": "stderr",
     "output_type": "stream",
     "text": [
      "\n"
     ]
    }
   ],
   "source": [
    "correct = 0\n",
    "total = 0\n",
    "with torch.no_grad():\n",
    "    for images, labels in tqdm(test_dl):\n",
    "        if torch.cuda.is_available():\n",
    "            images, labels = images.cuda(), labels.cuda()\n",
    "            model = model.cuda()\n",
    "\n",
    "        outputs = model(images)\n",
    "\n",
    "        _, predicted = torch.max(outputs.data, 1)\n",
    "\n",
    "        total += labels.size(0)\n",
    "        correct += (predicted == labels).sum().item()\n",
    "accuracy = (correct / total) * 100.0\n",
    "print(f\"accuracy: {accuracy}%\")"
   ]
  },
  {
   "cell_type": "code",
   "execution_count": null,
   "id": "836c4457-6cf8-4808-aaeb-bcc22a28e66b",
   "metadata": {},
   "outputs": [],
   "source": []
  }
 ],
 "metadata": {
  "kernelspec": {
   "display_name": "ml",
   "language": "python",
   "name": "ml"
  },
  "language_info": {
   "codemirror_mode": {
    "name": "ipython",
    "version": 3
   },
   "file_extension": ".py",
   "mimetype": "text/x-python",
   "name": "python",
   "nbconvert_exporter": "python",
   "pygments_lexer": "ipython3",
   "version": "3.12.3"
  }
 },
 "nbformat": 4,
 "nbformat_minor": 5
}
